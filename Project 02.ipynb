{
 "cells": [
  {
   "cell_type": "code",
   "execution_count": 35,
   "metadata": {},
   "outputs": [
    {
     "name": "stdout",
     "output_type": "stream",
     "text": [
      "Defaulting to user installation because normal site-packages is not writeable\n",
      "Requirement already satisfied: pandas in c:\\users\\lenovo\\appdata\\roaming\\python\\python312\\site-packages (2.2.3)\n",
      "Requirement already satisfied: numpy>=1.26.0 in c:\\users\\lenovo\\appdata\\roaming\\python\\python312\\site-packages (from pandas) (2.2.0)\n",
      "Requirement already satisfied: python-dateutil>=2.8.2 in c:\\users\\lenovo\\appdata\\roaming\\python\\python312\\site-packages (from pandas) (2.9.0.post0)\n",
      "Requirement already satisfied: pytz>=2020.1 in c:\\users\\lenovo\\appdata\\roaming\\python\\python312\\site-packages (from pandas) (2024.2)\n",
      "Requirement already satisfied: tzdata>=2022.7 in c:\\users\\lenovo\\appdata\\roaming\\python\\python312\\site-packages (from pandas) (2024.2)\n",
      "Requirement already satisfied: six>=1.5 in c:\\users\\lenovo\\appdata\\roaming\\python\\python312\\site-packages (from python-dateutil>=2.8.2->pandas) (1.17.0)\n",
      "Note: you may need to restart the kernel to use updated packages.\n"
     ]
    },
    {
     "name": "stderr",
     "output_type": "stream",
     "text": [
      "\n",
      "[notice] A new release of pip is available: 24.2 -> 24.3.1\n",
      "[notice] To update, run: python.exe -m pip install --upgrade pip\n"
     ]
    }
   ],
   "source": [
    "pip install pandas"
   ]
  },
  {
   "cell_type": "code",
   "execution_count": 53,
   "metadata": {},
   "outputs": [],
   "source": [
    "import pandas as pd"
   ]
  },
  {
   "cell_type": "code",
   "execution_count": 54,
   "metadata": {},
   "outputs": [
    {
     "name": "stdout",
     "output_type": "stream",
     "text": [
      "     0       1                2          3      4               5   \\\n",
      "0  Year    Make            Model  Condition  Price  ConsumerRating   \n",
      "1  2019  Toyota        Sienna SE       Used  39998             4.6   \n",
      "2  2018    Ford     F-150 Lariat       Used  49985             4.8   \n",
      "3  2017     RAM     1500 Laramie       Used  41860             4.7   \n",
      "4  2021   Honda  Accord Sport SE       Used  28500               5   \n",
      "\n",
      "                6           7             8              9   ...  \\\n",
      "0  ConsumerReviews  SellerType  SellerRating  SellerReviews  ...   \n",
      "1               45      Dealer           3.3              3  ...   \n",
      "2              817      Dealer           4.8            131  ...   \n",
      "3              495      Dealer           4.6            249  ...   \n",
      "4               36      Dealer           4.6            284  ...   \n",
      "\n",
      "                                   18                 19      20      21  \\\n",
      "0                       ExteriorColor         Drivetrain  MinMPG  MaxMPG   \n",
      "1                                 Red  Front-wheel Drive      19      27   \n",
      "2                        Shadow Black   Four-wheel Drive      19      24   \n",
      "3  Granite Crystal Clearcoat Metallic   Four-wheel Drive      15      21   \n",
      "4                                Gray  Front-wheel Drive      29      35   \n",
      "\n",
      "         22                  23                               24  \\\n",
      "0  FuelType        Transmission                           Engine   \n",
      "1  Gasoline   8-Speed Automatic             3.5L V6 24V PDI DOHC   \n",
      "2  Gasoline  10-Speed Automatic  3.5L V6 24V PDI DOHC Twin Turbo   \n",
      "3  Gasoline   8-Speed Automatic             5.7L V8 16V MPFI OHV   \n",
      "4  Gasoline       Automatic CVT       1.5L I4 16V GDI DOHC Turbo   \n",
      "\n",
      "                  25         26       27  \n",
      "0                VIN     Stock#  Mileage  \n",
      "1  5TDXZ3DC2KS015402   22998646    29403  \n",
      "2  1FTEW1EG2JFD44217     22418A    32929  \n",
      "3  1C6RR7VT5HS842283  NG277871G    23173  \n",
      "4  1HGCV1F49MA038035      54237    10598  \n",
      "\n",
      "[5 rows x 28 columns]\n",
      "        0        1                       2     3      4    5    6       7   \\\n",
      "9375  2019   Subaru  Crosstrek 2.0i Premium  Used  27374  4.7  205  Dealer   \n",
      "9376  2019     Audi         Q8 3.0T Premium  Used  61998  4.8   27  Dealer   \n",
      "9377  2017    Buick         Enclave Leather  Used  26944  4.8  137  Dealer   \n",
      "9378  2019   Subaru        Forester Premium  Used  28568  4.7  279  Dealer   \n",
      "9379  2019  Hyundai   Santa Fe Ultimate 2.4  Used  32091  4.8  204  Dealer   \n",
      "\n",
      "       8     9   ...                       18               19  20  21  \\\n",
      "9375  4.4   443  ...        Quartz Blue Pearl  All-wheel Drive  27  33   \n",
      "9376  4.8  1789  ...              Night Black  All-wheel Drive  17  22   \n",
      "9377  4.7   831  ...  Ebony Twilight Metallic  All-wheel Drive  15  22   \n",
      "9378  4.4   680  ...     Crystal Black Silica  All-wheel Drive  26  33   \n",
      "9379  4.4  1105  ...           Twilight Black  All-wheel Drive  21  27   \n",
      "\n",
      "            22                 23                                 24  \\\n",
      "9375  Gasoline      Automatic CVT               2.0L H4 16V GDI DOHC   \n",
      "9376    Hybrid  8-Speed Automatic  3.0L V6 24V GDI DOHC Turbo Hybrid   \n",
      "9377  Gasoline  6-Speed Automatic               3.6L V6 24V GDI DOHC   \n",
      "9378  Gasoline      Automatic CVT               2.5L H4 16V GDI DOHC   \n",
      "9379  Gasoline  8-Speed Automatic               2.4L I4 16V GDI DOHC   \n",
      "\n",
      "                     25        26     27  \n",
      "9375  JF2GTADC4KH318032   220502A  15606  \n",
      "9376  WA1AVAF14KD015389    AB4719  46855  \n",
      "9377  5GAKVBKD4HJ190334  B221381B  62649  \n",
      "9378  JF2SKAGC9KH423450  KH423450  30760  \n",
      "9379  5NMS5CAD1KH002128    H48345  41645  \n",
      "\n",
      "[5 rows x 28 columns]\n",
      "0     9380\n",
      "1     9380\n",
      "2     9380\n",
      "3     9380\n",
      "4     9380\n",
      "5     9380\n",
      "6     9380\n",
      "7     9380\n",
      "8     9380\n",
      "9     9380\n",
      "10    9380\n",
      "11    9158\n",
      "12    9380\n",
      "13    9380\n",
      "14    9380\n",
      "15    9380\n",
      "16    9380\n",
      "17    9380\n",
      "18    9380\n",
      "19    9380\n",
      "20    9380\n",
      "21    9380\n",
      "22    9380\n",
      "23    9380\n",
      "24    9380\n",
      "25    9380\n",
      "26    9380\n",
      "27    9380\n",
      "dtype: int64\n",
      "         0        1                       2          3      4               5  \\\n",
      "0     Year     Make                   Model  Condition  Price  ConsumerRating   \n",
      "1     2019   Toyota               Sienna SE       Used  39998             4.6   \n",
      "2     2018     Ford            F-150 Lariat       Used  49985             4.8   \n",
      "3     2017      RAM            1500 Laramie       Used  41860             4.7   \n",
      "4     2021    Honda         Accord Sport SE       Used  28500               5   \n",
      "...    ...      ...                     ...        ...    ...             ...   \n",
      "9375  2019   Subaru  Crosstrek 2.0i Premium       Used  27374             4.7   \n",
      "9376  2019     Audi         Q8 3.0T Premium       Used  61998             4.8   \n",
      "9377  2017    Buick         Enclave Leather       Used  26944             4.8   \n",
      "9378  2019   Subaru        Forester Premium       Used  28568             4.7   \n",
      "9379  2019  Hyundai   Santa Fe Ultimate 2.4       Used  32091             4.8   \n",
      "\n",
      "                    6  \n",
      "0     ConsumerReviews  \n",
      "1                  45  \n",
      "2                 817  \n",
      "3                 495  \n",
      "4                  36  \n",
      "...               ...  \n",
      "9375              205  \n",
      "9376               27  \n",
      "9377              137  \n",
      "9378              279  \n",
      "9379              204  \n",
      "\n",
      "[9380 rows x 7 columns]\n"
     ]
    }
   ],
   "source": [
    "import pandas as pd\n",
    "\n",
    "# Read the CSV file\n",
    "df = pd.read_csv('cars_raw.csv', header=None)\n",
    "\n",
    "# Assign column names\n",
    "\n",
    "\n",
    "# Show the first few rows (head)\n",
    "print(df.head())  # Displays the first 5 rows by default\n",
    "\n",
    "# Show the last few rows (tail)\n",
    "print(df.tail())  # Displays the last 5 rows by default\n",
    "\n",
    "# Count the number of non-null values in each column\n",
    "print(df.count())  # Counts non-null entries in each column\n",
    "\n",
    "# Select and display only 6-7 columns (assuming the columns in the dataframe are fewer than 7)\n",
    "df_selected = df.iloc[:, :7]  # This selects the first 7 columns (if there are at least 7 columns)\n",
    "print(df_selected)\n"
   ]
  },
  {
   "cell_type": "code",
   "execution_count": 55,
   "metadata": {},
   "outputs": [
    {
     "name": "stdout",
     "output_type": "stream",
     "text": [
      "   Year    Make            Model Condition  Price  ConsumerRating  \\\n",
      "0  2019  Toyota        Sienna SE      Used  39998             4.6   \n",
      "1  2018    Ford     F-150 Lariat      Used  49985             4.8   \n",
      "2  2017     RAM     1500 Laramie      Used  41860             4.7   \n",
      "3  2021   Honda  Accord Sport SE      Used  28500             5.0   \n",
      "4  2020   Lexus           RX 350      Used  49000             4.8   \n",
      "\n",
      "   ConsumerReviews SellerType  SellerRating  SellerReviews  ...  \\\n",
      "0               45     Dealer           3.3              3  ...   \n",
      "1              817     Dealer           4.8            131  ...   \n",
      "2              495     Dealer           4.6            249  ...   \n",
      "3               36     Dealer           4.6            284  ...   \n",
      "4               76     Dealer           4.8           4755  ...   \n",
      "\n",
      "                        ExteriorColor         Drivetrain  MinMPG  MaxMPG  \\\n",
      "0                                 Red  Front-wheel Drive      19      27   \n",
      "1                        Shadow Black   Four-wheel Drive      19      24   \n",
      "2  Granite Crystal Clearcoat Metallic   Four-wheel Drive      15      21   \n",
      "3                                Gray  Front-wheel Drive      29      35   \n",
      "4                 Eminent White Pearl  Front-wheel Drive      20      27   \n",
      "\n",
      "   FuelType        Transmission                           Engine  \\\n",
      "0  Gasoline   8-Speed Automatic             3.5L V6 24V PDI DOHC   \n",
      "1  Gasoline  10-Speed Automatic  3.5L V6 24V PDI DOHC Twin Turbo   \n",
      "2  Gasoline   8-Speed Automatic             5.7L V8 16V MPFI OHV   \n",
      "3  Gasoline       Automatic CVT       1.5L I4 16V GDI DOHC Turbo   \n",
      "4  Gasoline   8-Speed Automatic             3.5L V6 24V PDI DOHC   \n",
      "\n",
      "                 VIN     Stock# Mileage  \n",
      "0  5TDXZ3DC2KS015402   22998646   29403  \n",
      "1  1FTEW1EG2JFD44217     22418A   32929  \n",
      "2  1C6RR7VT5HS842283  NG277871G   23173  \n",
      "3  1HGCV1F49MA038035      54237   10598  \n",
      "4  2T2AZMAA8LC156270   HDT4181A   28137  \n",
      "\n",
      "[5 rows x 28 columns]\n"
     ]
    }
   ],
   "source": [
    "import pandas as pd\n",
    "\n",
    "# Read the CSV file into a Pandas DataFrame\n",
    "file_name = \"cars_raw.csv\"  # File name\n",
    "data = pd.read_csv(file_name)\n",
    "\n",
    "# Display the first few rows of the DataFrame\n",
    "print(data.head())"
   ]
  },
  {
   "cell_type": "code",
   "execution_count": 56,
   "metadata": {},
   "outputs": [
    {
     "name": "stdout",
     "output_type": "stream",
     "text": [
      "Average (Mean) of Price: 39828.20066105128\n",
      "Standard Deviation of Price: 20790.95090460861\n",
      "Variance of Price: 432263639.5178456\n",
      "Median of Price: 35999.0\n",
      "Mode of Price: [29995]\n"
     ]
    }
   ],
   "source": [
    "average = data['Price'].mean()\n",
    "std_dev = data['Price'].std()\n",
    "variance = data['Price'].var()\n",
    "median = data['Price'].median()\n",
    "mode = data['Price'].mode()\n",
    "\n",
    "# Display the results\n",
    "print(f\"Average (Mean) of Price: {average}\")\n",
    "print(f\"Standard Deviation of Price: {std_dev}\")\n",
    "print(f\"Variance of Price: {variance}\")\n",
    "print(f\"Median of Price: {median}\")\n",
    "print(f\"Mode of Price: {mode.tolist()}\")"
   ]
  },
  {
   "cell_type": "code",
   "execution_count": 57,
   "metadata": {},
   "outputs": [
    {
     "name": "stdout",
     "output_type": "stream",
     "text": [
      "Average (Mean) of ConsumerRating: 4.702825461136582\n",
      "Standard Deviation of ConsumerRating: 0.2407945025513119\n",
      "Variance of ConsumerRating: 0.057981992458933755\n",
      "Median of ConsumerRating: 4.8\n",
      "Mode of ConsumerRating: [4.8]\n"
     ]
    }
   ],
   "source": [
    "average = data['ConsumerRating'].mean()\n",
    "std_dev = data['ConsumerRating'].std()\n",
    "variance = data['ConsumerRating'].var()\n",
    "median = data['ConsumerRating'].median()\n",
    "mode = data['ConsumerRating'].mode()\n",
    "\n",
    "# Display the results\n",
    "print(f\"Average (Mean) of ConsumerRating: {average}\")\n",
    "print(f\"Standard Deviation of ConsumerRating: {std_dev}\")\n",
    "print(f\"Variance of ConsumerRating: {variance}\")\n",
    "print(f\"Median of ConsumerRating: {median}\")\n",
    "print(f\"Mode of ConsumerRating: {mode.tolist()}\")"
   ]
  },
  {
   "cell_type": "code",
   "execution_count": 58,
   "metadata": {},
   "outputs": [
    {
     "name": "stdout",
     "output_type": "stream",
     "text": [
      "Average (Mean) of ConsumerReviews: 133.1870135408892\n",
      "Standard Deviation of ConsumerReviews: 154.98563970732351\n",
      "Variance of ConsumerReviews: 24020.5485154883\n",
      "Median of ConsumerReviews: 75.0\n",
      "Mode of ConsumerReviews: [540]\n"
     ]
    }
   ],
   "source": [
    "average = data['ConsumerReviews'].mean()\n",
    "std_dev = data['ConsumerReviews'].std()\n",
    "variance = data['ConsumerReviews'].var()\n",
    "median = data['ConsumerReviews'].median()\n",
    "mode = data['ConsumerReviews'].mode()\n",
    "\n",
    "# Display the results\n",
    "print(f\"Average (Mean) of ConsumerReviews: {average}\")\n",
    "print(f\"Standard Deviation of ConsumerReviews: {std_dev}\")\n",
    "print(f\"Variance of ConsumerReviews: {variance}\")\n",
    "print(f\"Median of ConsumerReviews: {median}\")\n",
    "print(f\"Mode of ConsumerReviews: {mode.tolist()}\")"
   ]
  },
  {
   "cell_type": "code",
   "execution_count": 59,
   "metadata": {},
   "outputs": [
    {
     "name": "stdout",
     "output_type": "stream",
     "text": [
      "Average (Mean) of SellerRating: 4.4125706365284145\n",
      "Standard Deviation of SellerRating: 0.6262584193450197\n",
      "Variance of SellerRating: 0.3921996078005225\n",
      "Median of SellerRating: 4.6\n",
      "Mode of SellerRating: [4.7]\n"
     ]
    }
   ],
   "source": [
    "average = data['SellerRating'].mean()\n",
    "std_dev = data['SellerRating'].std()\n",
    "variance = data['SellerRating'].var()\n",
    "median = data['SellerRating'].median()\n",
    "mode = data['SellerRating'].mode()\n",
    "\n",
    "# Display the results\n",
    "print(f\"Average (Mean) of SellerRating: {average}\")\n",
    "print(f\"Standard Deviation of SellerRating: {std_dev}\")\n",
    "print(f\"Variance of SellerRating: {variance}\")\n",
    "print(f\"Median of SellerRating: {median}\")\n",
    "print(f\"Mode of SellerRating: {mode.tolist()}\")"
   ]
  },
  {
   "cell_type": "code",
   "execution_count": 60,
   "metadata": {},
   "outputs": [
    {
     "name": "stdout",
     "output_type": "stream",
     "text": [
      "Average (Mean) of SellerReviews: 984.0899882716708\n",
      "Standard Deviation of SellerReviews: 1609.0398635775196\n",
      "Variance of SellerReviews: 2589009.2825815626\n",
      "Median of SellerReviews: 542.0\n",
      "Mode of SellerReviews: [2]\n"
     ]
    }
   ],
   "source": [
    "average = data['SellerReviews'].mean()\n",
    "std_dev = data['SellerReviews'].std()\n",
    "variance = data['SellerReviews'].var()\n",
    "median = data['SellerReviews'].median()\n",
    "mode = data['SellerReviews'].mode()\n",
    "\n",
    "# Display the results\n",
    "print(f\"Average (Mean) of SellerReviews: {average}\")\n",
    "print(f\"Standard Deviation of SellerReviews: {std_dev}\")\n",
    "print(f\"Variance of SellerReviews: {variance}\")\n",
    "print(f\"Median of SellerReviews: {median}\")\n",
    "print(f\"Mode of SellerReviews: {mode.tolist()}\")"
   ]
  },
  {
   "cell_type": "code",
   "execution_count": 61,
   "metadata": {},
   "outputs": [
    {
     "name": "stdout",
     "output_type": "stream",
     "text": [
      "Average (Mean) of ComfortRating: 4.771894658279134\n",
      "Standard Deviation of ComfortRating: 0.21782172356006882\n",
      "Variance of ComfortRating: 0.04744630325467904\n",
      "Median of ComfortRating: 4.8\n",
      "Mode of ComfortRating: [4.8]\n"
     ]
    }
   ],
   "source": [
    "average = data['ComfortRating'].mean()\n",
    "std_dev = data['ComfortRating'].std()\n",
    "variance = data['ComfortRating'].var()\n",
    "median = data['ComfortRating'].median()\n",
    "mode = data['ComfortRating'].mode()\n",
    "\n",
    "# Display the results\n",
    "print(f\"Average (Mean) of ComfortRating: {average}\")\n",
    "print(f\"Standard Deviation of ComfortRating: {std_dev}\")\n",
    "print(f\"Variance of ComfortRating: {variance}\")\n",
    "print(f\"Median of ComfortRating: {median}\")\n",
    "print(f\"Mode of ComfortRating: {mode.tolist()}\")"
   ]
  },
  {
   "cell_type": "code",
   "execution_count": 62,
   "metadata": {},
   "outputs": [
    {
     "name": "stdout",
     "output_type": "stream",
     "text": [
      "Average (Mean) of InteriorDesignRating: 4.727390979848598\n",
      "Standard Deviation of InteriorDesignRating: 0.19439064287789984\n",
      "Variance of InteriorDesignRating: 0.03778772203848319\n",
      "Median of InteriorDesignRating: 4.8\n",
      "Mode of InteriorDesignRating: [4.8]\n"
     ]
    }
   ],
   "source": [
    "average = data['InteriorDesignRating'].mean()\n",
    "std_dev = data['InteriorDesignRating'].std()\n",
    "variance = data['InteriorDesignRating'].var()\n",
    "median = data['InteriorDesignRating'].median()\n",
    "mode = data['InteriorDesignRating'].mode()\n",
    "\n",
    "# Display the results\n",
    "print(f\"Average (Mean) of InteriorDesignRating: {average}\")\n",
    "print(f\"Standard Deviation of InteriorDesignRating: {std_dev}\")\n",
    "print(f\"Variance of InteriorDesignRating: {variance}\")\n",
    "print(f\"Median of InteriorDesignRating: {median}\")\n",
    "print(f\"Mode of InteriorDesignRating: {mode.tolist()}\")"
   ]
  },
  {
   "cell_type": "code",
   "execution_count": 63,
   "metadata": {},
   "outputs": [
    {
     "name": "stdout",
     "output_type": "stream",
     "text": [
      "Average (Mean) of PerformanceRating: 4.696289583111206\n",
      "Standard Deviation of PerformanceRating: 0.2536638912961854\n",
      "Variance of PerformanceRating: 0.06434536974752295\n",
      "Median of PerformanceRating: 4.7\n",
      "Mode of PerformanceRating: [4.8]\n"
     ]
    }
   ],
   "source": [
    "average = data['PerformanceRating'].mean()\n",
    "std_dev = data['PerformanceRating'].std()\n",
    "variance = data['PerformanceRating'].var()\n",
    "median = data['PerformanceRating'].median()\n",
    "mode = data['PerformanceRating'].mode()\n",
    "\n",
    "# Display the results\n",
    "print(f\"Average (Mean) of PerformanceRating: {average}\")\n",
    "print(f\"Standard Deviation of PerformanceRating: {std_dev}\")\n",
    "print(f\"Variance of PerformanceRating: {variance}\")\n",
    "print(f\"Median of PerformanceRating: {median}\")\n",
    "print(f\"Mode of PerformanceRating: {mode.tolist()}\")"
   ]
  },
  {
   "cell_type": "code",
   "execution_count": 64,
   "metadata": {},
   "outputs": [
    {
     "name": "stdout",
     "output_type": "stream",
     "text": [
      "Average (Mean) of ReliabilityRating: 4.681746454845931\n",
      "Standard Deviation of ReliabilityRating: 0.3681605977674965\n",
      "Variance of ReliabilityRating: 0.13554222574852035\n",
      "Median of ReliabilityRating: 4.8\n",
      "Mode of ReliabilityRating: [4.8]\n"
     ]
    }
   ],
   "source": [
    "average = data['ReliabilityRating'].mean()\n",
    "std_dev = data['ReliabilityRating'].std()\n",
    "variance = data['ReliabilityRating'].var()\n",
    "median = data['ReliabilityRating'].median()\n",
    "mode = data['ReliabilityRating'].mode()\n",
    "\n",
    "# Display the results\n",
    "print(f\"Average (Mean) of ReliabilityRating: {average}\")\n",
    "print(f\"Standard Deviation of ReliabilityRating: {std_dev}\")\n",
    "print(f\"Variance of ReliabilityRating: {variance}\")\n",
    "print(f\"Median of ReliabilityRating: {median}\")\n",
    "print(f\"Mode of ReliabilityRating: {mode.tolist()}\")"
   ]
  },
  {
   "cell_type": "code",
   "execution_count": 65,
   "metadata": {},
   "outputs": [
    {
     "name": "stdout",
     "output_type": "stream",
     "text": [
      "Average (Mean) of Mileage: 37463.023350037314\n",
      "Standard Deviation of Mileage: 24970.342568961503\n",
      "Variance of Mileage: 623518008.011291\n",
      "Median of Mileage: 32907.0\n",
      "Mode of Mileage: [33148]\n"
     ]
    }
   ],
   "source": [
    "average = data['Mileage'].mean()\n",
    "std_dev = data['Mileage'].std()\n",
    "variance = data['Mileage'].var()\n",
    "median = data['Mileage'].median()\n",
    "mode = data['Mileage'].mode()\n",
    "\n",
    "# Display the results\n",
    "print(f\"Average (Mean) of Mileage: {average}\")\n",
    "print(f\"Standard Deviation of Mileage: {std_dev}\")\n",
    "print(f\"Variance of Mileage: {variance}\")\n",
    "print(f\"Median of Mileage: {median}\")\n",
    "print(f\"Mode of Mileage: {mode.tolist()}\")"
   ]
  },
  {
   "cell_type": "code",
   "execution_count": 66,
   "metadata": {},
   "outputs": [
    {
     "name": "stdout",
     "output_type": "stream",
     "text": [
      "Average (Mean) of MinMPG: 22.755411024629492\n",
      "Standard Deviation of MinMPG: 14.812868818312863\n",
      "Variance of MinMPG: 219.42108262854552\n",
      "Median of MinMPG: 20.0\n",
      "Mode of MinMPG: [19]\n"
     ]
    }
   ],
   "source": [
    "average = data['MinMPG'].mean()\n",
    "std_dev = data['MinMPG'].std()\n",
    "variance = data['MinMPG'].var()\n",
    "median = data['MinMPG'].median()\n",
    "mode = data['MinMPG'].mode()\n",
    "\n",
    "# Display the results\n",
    "print(f\"Average (Mean) of MinMPG: {average}\")\n",
    "print(f\"Standard Deviation of MinMPG: {std_dev}\")\n",
    "print(f\"Variance of MinMPG: {variance}\")\n",
    "print(f\"Median of MinMPG: {median}\")\n",
    "print(f\"Mode of MinMPG: {mode.tolist()}\")"
   ]
  },
  {
   "cell_type": "code",
   "execution_count": 67,
   "metadata": {},
   "outputs": [
    {
     "name": "stdout",
     "output_type": "stream",
     "text": [
      "Average (Mean) of MaxMPG: 29.216547606354624\n",
      "Standard Deviation of MaxMPG: 12.809783428435392\n",
      "Variance of MaxMPG: 164.09055148341795\n",
      "Median of MaxMPG: 27.0\n",
      "Mode of MaxMPG: [26]\n"
     ]
    }
   ],
   "source": [
    "average = data['MaxMPG'].mean()\n",
    "std_dev = data['MaxMPG'].std()\n",
    "variance = data['MaxMPG'].var()\n",
    "median = data['MaxMPG'].median()\n",
    "mode = data['MaxMPG'].mode()\n",
    "\n",
    "# Display the results\n",
    "print(f\"Average (Mean) of MaxMPG: {average}\")\n",
    "print(f\"Standard Deviation of MaxMPG: {std_dev}\")\n",
    "print(f\"Variance of MaxMPG: {variance}\")\n",
    "print(f\"Median of MaxMPG: {median}\")\n",
    "print(f\"Mode of MaxMPG: {mode.tolist()}\")"
   ]
  },
  {
   "cell_type": "code",
   "execution_count": 68,
   "metadata": {},
   "outputs": [
    {
     "name": "stdout",
     "output_type": "stream",
     "text": [
      "Average (Mean) of ValueForMoneyRating: 4.537082844652948\n",
      "Standard Deviation of ValueForMoneyRating: 0.33809815624695844\n",
      "Variance of ValueForMoneyRating: 0.11431036325759274\n",
      "Median of ValueForMoneyRating: 4.6\n",
      "Mode of ValueForMoneyRating: [4.7]\n"
     ]
    }
   ],
   "source": [
    "average = data['ValueForMoneyRating'].mean()\n",
    "std_dev = data['ValueForMoneyRating'].std()\n",
    "variance = data['ValueForMoneyRating'].var()\n",
    "median = data['ValueForMoneyRating'].median()\n",
    "mode = data['ValueForMoneyRating'].mode()\n",
    "\n",
    "# Display the results\n",
    "print(f\"Average (Mean) of ValueForMoneyRating: {average}\")\n",
    "print(f\"Standard Deviation of ValueForMoneyRating: {std_dev}\")\n",
    "print(f\"Variance of ValueForMoneyRating: {variance}\")\n",
    "print(f\"Median of ValueForMoneyRating: {median}\")\n",
    "print(f\"Mode of ValueForMoneyRating: {mode.tolist()}\")"
   ]
  },
  {
   "cell_type": "code",
   "execution_count": 69,
   "metadata": {},
   "outputs": [
    {
     "name": "stdout",
     "output_type": "stream",
     "text": [
      "Average (Mean) of ExteriorStylingRating: 4.782194263780786\n",
      "Standard Deviation of ExteriorStylingRating: 0.17153679253549822\n",
      "Variance of ExteriorStylingRating: 0.02942487119336656\n",
      "Median of ExteriorStylingRating: 4.8\n",
      "Mode of ExteriorStylingRating: [4.8]\n"
     ]
    }
   ],
   "source": [
    "average = data['ExteriorStylingRating'].mean()\n",
    "std_dev = data['ExteriorStylingRating'].std()\n",
    "variance = data['ExteriorStylingRating'].var()\n",
    "median = data['ExteriorStylingRating'].median()\n",
    "mode = data['ExteriorStylingRating'].mode()\n",
    "\n",
    "# Display the results\n",
    "print(f\"Average (Mean) of ExteriorStylingRating: {average}\")\n",
    "print(f\"Standard Deviation of ExteriorStylingRating: {std_dev}\")\n",
    "print(f\"Variance of ExteriorStylingRating: {variance}\")\n",
    "print(f\"Median of ExteriorStylingRating: {median}\")\n",
    "print(f\"Mode of ExteriorStylingRating: {mode.tolist()}\")"
   ]
  }
 ],
 "metadata": {
  "kernelspec": {
   "display_name": "Python 3",
   "language": "python",
   "name": "python3"
  },
  "language_info": {
   "codemirror_mode": {
    "name": "ipython",
    "version": 3
   },
   "file_extension": ".py",
   "mimetype": "text/x-python",
   "name": "python",
   "nbconvert_exporter": "python",
   "pygments_lexer": "ipython3",
   "version": "3.12.6"
  }
 },
 "nbformat": 4,
 "nbformat_minor": 2
}
